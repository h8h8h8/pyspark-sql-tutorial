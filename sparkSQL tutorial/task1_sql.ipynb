{
 "cells": [
  {
   "cell_type": "markdown",
   "id": "bce86a27-e1a4-4721-81aa-4901ac46e984",
   "metadata": {
    "tags": []
   },
   "source": [
    "<h1>SparkSQL<h1>"
   ]
  },
  {
   "cell_type": "markdown",
   "id": "1d5e38cc-9c57-4ee8-9ea3-f627e7d20cf8",
   "metadata": {},
   "source": [
    "<h2>Importing libraries<h2>"
   ]
  },
  {
   "cell_type": "code",
   "execution_count": 1,
   "id": "7f9e064b-f4cd-42a5-8f6f-c932a1210640",
   "metadata": {
    "tags": []
   },
   "outputs": [],
   "source": [
    "from pyspark import SparkContext\n",
    "from pyspark.sql import SQLContext\n",
    "from pyspark.sql import SparkSession\n",
    "spark=SparkSession.builder.master('local[*]').getOrCreate()\n",
    "sc = SparkContext.getOrCreate()\n",
    "sqlCtx = SQLContext(sc)\n",
    "df_ratings=sqlCtx.read.format(\"jdbc\").options(url =\"jdbc:sqlite:movielens-small.db\", driver=\"org.sqlite.JDBC\", dbtable=\"ratings\").load()\n",
    "df_movies=sqlCtx.read.format(\"jdbc\").options(url =\"jdbc:sqlite:movielens-small.db\", driver=\"org.sqlite.JDBC\", dbtable=\"movies\").load()\n",
    "df_links=sqlCtx.read.format(\"jdbc\").options(url =\"jdbc:sqlite:movielens-small.db\", driver=\"org.sqlite.JDBC\", dbtable=\"links\").load()\n",
    "df_tags=sqlCtx.read.format(\"jdbc\").options(url =\"jdbc:sqlite:movielens-small.db\", driver=\"org.sqlite.JDBC\", dbtable=\"tags\").load()\n",
    "\n",
    "\n",
    "\n"
   ]
  },
  {
   "cell_type": "markdown",
   "id": "ce5ff713-5e47-4aee-a2f0-f202f54f8c67",
   "metadata": {},
   "source": [
    "<h2>Table Schemas<h2>"
   ]
  },
  {
   "cell_type": "code",
   "execution_count": 2,
   "id": "67485832-2832-42e6-8e2a-0f5d35ea0693",
   "metadata": {},
   "outputs": [
    {
     "name": "stdout",
     "output_type": "stream",
     "text": [
      "root\n",
      " |-- userId: long (nullable = true)\n",
      " |-- movieId: long (nullable = true)\n",
      " |-- rating: double (nullable = true)\n",
      " |-- timestamp: long (nullable = true)\n",
      "\n",
      "root\n",
      " |-- movieId: long (nullable = true)\n",
      " |-- title: string (nullable = true)\n",
      " |-- year: long (nullable = true)\n",
      " |-- genres: string (nullable = true)\n",
      "\n",
      "root\n",
      " |-- movieId: long (nullable = true)\n",
      " |-- imdbId: string (nullable = true)\n",
      " |-- tmdbId: string (nullable = true)\n",
      "\n",
      "root\n",
      " |-- userId: long (nullable = true)\n",
      " |-- movieId: long (nullable = true)\n",
      " |-- tag: string (nullable = true)\n",
      " |-- timestamp: decimal(38,18) (nullable = true)\n",
      "\n"
     ]
    }
   ],
   "source": [
    "df_ratings.printSchema()\n",
    "df_movies.printSchema()\n",
    "df_links.printSchema()\n",
    "df_tags.printSchema()"
   ]
  },
  {
   "cell_type": "markdown",
   "id": "13e54041-7245-44dc-ac5a-b8208296e36a",
   "metadata": {},
   "source": [
    "<h2>Creating Table Views<h2>"
   ]
  },
  {
   "cell_type": "code",
   "execution_count": 3,
   "id": "b8c46598-82ff-4767-9b9e-bf9dd210949b",
   "metadata": {},
   "outputs": [],
   "source": [
    "df_ratings.createOrReplaceTempView(\"df_ratings\")\n",
    "df_movies.createOrReplaceTempView(\"df_movies\")\n",
    "df_links.createOrReplaceTempView(\"df_links\")\n",
    "df_tags.createOrReplaceTempView(\"df_tags\")\n",
    "\n"
   ]
  },
  {
   "cell_type": "markdown",
   "id": "740a6328-9ebf-47f0-bb53-b399f402aa5b",
   "metadata": {},
   "source": [
    "<h2>Selecting all tables from our movie db<h2>"
   ]
  },
  {
   "cell_type": "code",
   "execution_count": 4,
   "id": "d87a8e60-e508-4b0c-8fbb-70437fa21a42",
   "metadata": {},
   "outputs": [],
   "source": [
    "df_ratings= spark.sql(\"SELECT * from df_ratings\")\n",
    "df_movies= spark.sql(\"SELECT * from df_movies\")\n",
    "df_links= spark.sql(\"SELECT * from df_links\")\n",
    "df_tags= spark.sql(\"SELECT * from df_tags\")\n",
    "\n"
   ]
  },
  {
   "cell_type": "markdown",
   "id": "8ea550ab-9f95-45d8-b730-0498ce80e7a7",
   "metadata": {},
   "source": [
    "<h2>Creating the main table with movies and ratings table<h2>"
   ]
  },
  {
   "cell_type": "code",
   "execution_count": 5,
   "id": "2a920493-38b1-4d19-bae8-57304e9a834a",
   "metadata": {},
   "outputs": [],
   "source": [
    "df_main=spark.sql(\"select t2.userId,t1.movieId,t1.genres,t2.rating  from df_movies t1 join df_ratings t2 on t1.movieId=t2.movieId\")"
   ]
  },
  {
   "cell_type": "markdown",
   "id": "acda9fda-5bdf-43e4-83c9-e3741f9705e9",
   "metadata": {},
   "source": [
    "<h2>Countings ratings for each movie,and listing top 5<h2>"
   ]
  },
  {
   "cell_type": "code",
   "execution_count": 6,
   "id": "f3dc3714-1a11-444f-99b6-cee112b2ad2f",
   "metadata": {},
   "outputs": [],
   "source": [
    "\n",
    "df_main.createOrReplaceTempView(\"df_second\")\n",
    "df_top_five_movies= spark.sql(\"SELECT count(rating) as cnt_rating,movieId from df_second group by movieId order by cnt_rating desc LIMIT 5 \")\n"
   ]
  },
  {
   "cell_type": "markdown",
   "id": "8faa7dc1-9e28-444f-9636-4345efa498ab",
   "metadata": {},
   "source": [
    "<h2>Preview of our df_top_five_movies table<h2>"
   ]
  },
  {
   "cell_type": "code",
   "execution_count": 7,
   "id": "b43a1268-c750-4292-9daf-dea869ee4f44",
   "metadata": {},
   "outputs": [
    {
     "name": "stdout",
     "output_type": "stream",
     "text": [
      "+----------+-------+\n",
      "|cnt_rating|movieId|\n",
      "+----------+-------+\n",
      "|       337|    593|\n",
      "|       328|    318|\n",
      "|       327|    296|\n",
      "|       324|    480|\n",
      "|       318|    356|\n",
      "+----------+-------+\n",
      "\n"
     ]
    }
   ],
   "source": [
    "df_top_five_movies.show()\n"
   ]
  },
  {
   "cell_type": "markdown",
   "id": "1b107094-8f9d-4982-af9b-4a931131730d",
   "metadata": {},
   "source": [
    "<h2>Finding and listing top 5 most rated genres <h2>"
   ]
  },
  {
   "cell_type": "code",
   "execution_count": 8,
   "id": "6c7be76e-5e1e-47f6-9cba-cf399d74b942",
   "metadata": {},
   "outputs": [
    {
     "name": "stdout",
     "output_type": "stream",
     "text": [
      "+-------+----------+\n",
      "|movieId|rating_avg|\n",
      "+-------+----------+\n",
      "|  63836|       5.0|\n",
      "|   7234|       5.0|\n",
      "|  33585|       5.0|\n",
      "|  87992|       5.0|\n",
      "|  57910|       5.0|\n",
      "+-------+----------+\n",
      "\n"
     ]
    }
   ],
   "source": [
    "\n",
    "df_main.createOrReplaceTempView(\"df_main_2\")\n",
    "df_top_genres= spark.sql(\"SELECT * from df_main_2 \")\n",
    "df_top_genres_sol= spark.sql(\"SELECT movieId,round(avg(rating),2) as rating_avg from df_main_2 group by movieId order by rating_avg desc LIMIT 5 \")\n",
    "df_top_genres_sol.show()\n",
    "\n"
   ]
  },
  {
   "cell_type": "code",
   "execution_count": null,
   "id": "e6851b6b",
   "metadata": {},
   "outputs": [],
   "source": []
  }
 ],
 "metadata": {
  "kernelspec": {
   "display_name": "Python 3 (ipykernel)",
   "language": "python",
   "name": "python3"
  },
  "language_info": {
   "codemirror_mode": {
    "name": "ipython",
    "version": 3
   },
   "file_extension": ".py",
   "mimetype": "text/x-python",
   "name": "python",
   "nbconvert_exporter": "python",
   "pygments_lexer": "ipython3",
   "version": "3.9.7"
  }
 },
 "nbformat": 4,
 "nbformat_minor": 5
}
