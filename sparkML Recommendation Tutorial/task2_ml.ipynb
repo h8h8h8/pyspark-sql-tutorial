{
 "cells": [
  {
   "cell_type": "markdown",
   "id": "d5a10ce7",
   "metadata": {},
   "source": [
    "<img src=\"movies/als_img.png\" width=720 height=580 align=left>"
   ]
  },
  {
   "cell_type": "markdown",
   "id": "7ab11f85",
   "metadata": {},
   "source": [
    "<h2>There are two options for recommendation.We choose Colloborative filtering<h2>"
   ]
  },
  {
   "cell_type": "markdown",
   "id": "5c6ace37",
   "metadata": {},
   "source": [
    "<h3>First we import our libraries<h3>"
   ]
  },
  {
   "cell_type": "code",
   "execution_count": 75,
   "id": "6c3a352c",
   "metadata": {},
   "outputs": [],
   "source": [
    "from pyspark.sql import SparkSession\n",
    "from pyspark.sql import SQLContext\n",
    "from pyspark.ml.evaluation import RegressionEvaluator\n",
    "from pyspark.ml.recommendation import ALS \n"
   ]
  },
  {
   "cell_type": "markdown",
   "id": "91565f4a",
   "metadata": {},
   "source": [
    "<h3>Lets create our spark session<h3>"
   ]
  },
  {
   "cell_type": "code",
   "execution_count": 76,
   "id": "524a2aa1-d1ef-444a-b324-d33db7a270d7",
   "metadata": {},
   "outputs": [],
   "source": [
    "spark=SparkSession.builder.master('local[*]').appName('movielens').getOrCreate()\n",
    "sqlCtx = SQLContext(spark)\n"
   ]
  },
  {
   "cell_type": "markdown",
   "id": "ed1c7c2a",
   "metadata": {},
   "source": [
    "<h3>For db connection we need to connect with jdbc and then choose our table in this case 'ratings'<h3>"
   ]
  },
  {
   "cell_type": "code",
   "execution_count": 77,
   "id": "79795285-250b-4105-abdc-3984db17a27f",
   "metadata": {},
   "outputs": [],
   "source": [
    "df_ratings=sqlCtx.read.format(\"jdbc\").options(url =\"jdbc:sqlite:movielens-small.db\", driver=\"org.sqlite.JDBC\", dbtable=\"ratings\").load()\n"
   ]
  },
  {
   "cell_type": "markdown",
   "id": "d0e5e578",
   "metadata": {},
   "source": [
    "<h3>For a little preview we print our table schema<h3>"
   ]
  },
  {
   "cell_type": "code",
   "execution_count": 78,
   "id": "5bb15d8a-265e-4819-95fa-fb5fa10659d1",
   "metadata": {},
   "outputs": [
    {
     "name": "stdout",
     "output_type": "stream",
     "text": [
      "root\n",
      " |-- userId: long (nullable = true)\n",
      " |-- movieId: long (nullable = true)\n",
      " |-- rating: double (nullable = true)\n",
      " |-- timestamp: long (nullable = true)\n",
      "\n"
     ]
    }
   ],
   "source": [
    "df_ratings.printSchema()\n"
   ]
  },
  {
   "cell_type": "markdown",
   "id": "b112fd0f",
   "metadata": {},
   "source": [
    "<h3>And then we use spark sql for more intense look<h3>"
   ]
  },
  {
   "cell_type": "code",
   "execution_count": 79,
   "id": "ccf8e3ff-46c3-4d34-803c-4337a2f644b3",
   "metadata": {},
   "outputs": [
    {
     "name": "stdout",
     "output_type": "stream",
     "text": [
      "+------+-------+------+\n",
      "|userId|movieId|rating|\n",
      "+------+-------+------+\n",
      "|     1|      6|   2.0|\n",
      "|     1|     22|   3.0|\n",
      "|     1|     32|   2.0|\n",
      "|     1|     50|   5.0|\n",
      "|     1|    110|   4.0|\n",
      "|     1|    164|   3.0|\n",
      "|     1|    198|   3.0|\n",
      "|     1|    260|   5.0|\n",
      "|     1|    296|   4.0|\n",
      "|     1|    303|   3.0|\n",
      "|     1|    318|   3.0|\n",
      "|     1|    350|   3.0|\n",
      "|     1|    366|   2.0|\n",
      "|     1|    367|   4.0|\n",
      "|     1|    431|   2.0|\n",
      "|     1|    432|   2.0|\n",
      "|     1|    451|   1.0|\n",
      "|     1|    457|   4.0|\n",
      "|     1|    474|   3.0|\n",
      "|     1|    480|   4.0|\n",
      "+------+-------+------+\n",
      "only showing top 20 rows\n",
      "\n",
      "+-------+-----------------+------------------+------------------+\n",
      "|summary|           userId|           movieId|            rating|\n",
      "+-------+-----------------+------------------+------------------+\n",
      "|  count|           100023|            100023|            100023|\n",
      "|   mean|341.7607650240445|  8613.12344160843| 3.491361986743049|\n",
      "| stddev|193.8497546127998|19736.006106155033|1.0679416920809688|\n",
      "|    min|                1|                 1|               0.5|\n",
      "|    max|              706|            129651|               5.0|\n",
      "+-------+-----------------+------------------+------------------+\n",
      "\n"
     ]
    }
   ],
   "source": [
    "df_ratings.createOrReplaceTempView(\"df_ratings\")\n",
    "df_ratings= spark.sql(\"SELECT userId,movieId,rating from df_ratings\")\n",
    "df_ratings.show()\n",
    "df_ratings.describe().show()"
   ]
  },
  {
   "cell_type": "markdown",
   "id": "28b937f9",
   "metadata": {},
   "source": [
    "<h3>We split our data for model training<h3>"
   ]
  },
  {
   "cell_type": "code",
   "execution_count": 80,
   "id": "a934fbba-7d3f-428d-b7f3-d1477f3be36b",
   "metadata": {},
   "outputs": [],
   "source": [
    "(train,test)=df_ratings.randomSplit([0.8,0.2],seed=42)"
   ]
  },
  {
   "cell_type": "markdown",
   "id": "55440c97",
   "metadata": {},
   "source": [
    "<h3>We got our inputs for ALS algorithm<h3>"
   ]
  },
  {
   "cell_type": "code",
   "execution_count": 81,
   "id": "71b4eaa2-d505-4bd4-a6c3-4150cc13e2ef",
   "metadata": {},
   "outputs": [],
   "source": [
    "als=ALS(maxIter=5,regParam=0.01,userCol=\"userId\",itemCol=\"movieId\",ratingCol=\"rating\")"
   ]
  },
  {
   "cell_type": "markdown",
   "id": "6014c437",
   "metadata": {},
   "source": [
    "<h3>We are fitting our training data and drop the null values for better model<h3>"
   ]
  },
  {
   "cell_type": "code",
   "execution_count": 82,
   "id": "9e5c7ec0-48f3-4f64-a427-8dbf6c6b98a2",
   "metadata": {},
   "outputs": [],
   "source": [
    "model=als.fit(train)\n",
    "model.setColdStartStrategy(\"drop\");\n"
   ]
  },
  {
   "cell_type": "markdown",
   "id": "b4061506",
   "metadata": {},
   "source": [
    "<h3>And then predict our results with test data<h3>"
   ]
  },
  {
   "cell_type": "code",
   "execution_count": 83,
   "id": "12a392e5-b600-49c3-8e10-75c42263d709",
   "metadata": {},
   "outputs": [],
   "source": [
    "pred=model.transform(test)"
   ]
  },
  {
   "cell_type": "markdown",
   "id": "b9d065cf",
   "metadata": {},
   "source": [
    "<h3>Lets take a look!<h3>"
   ]
  },
  {
   "cell_type": "code",
   "execution_count": 84,
   "id": "cf4d69bc-c666-4364-88ea-b99a16de3ef9",
   "metadata": {},
   "outputs": [
    {
     "name": "stdout",
     "output_type": "stream",
     "text": [
      "+------+-------+------+----------+\n",
      "|userId|movieId|rating|prediction|\n",
      "+------+-------+------+----------+\n",
      "|   193|    471|   3.5|  4.071856|\n",
      "|   159|    471|   4.0| 3.7813318|\n",
      "|   285|    471|   4.5| 3.3366497|\n",
      "|   372|    471|   1.0|  2.444837|\n",
      "|   230|    471|   4.5| 3.5273886|\n",
      "|   177|    471|   2.0| 1.4566228|\n",
      "|   381|    471|   4.0|  2.959577|\n",
      "|   343|    471|   2.0| 4.3055863|\n",
      "|   344|    471|   3.5| 4.5773745|\n",
      "|   281|    471|   5.0| 1.9693217|\n",
      "|   616|    471|   4.0| 3.9326916|\n",
      "|   215|    471|   4.5| 2.7475436|\n",
      "|    89|    471|   4.0|  4.222172|\n",
      "|   199|    833|   5.0| 3.0399003|\n",
      "|   516|   1088|   4.0| 3.2384913|\n",
      "|   588|   1088|   2.0|  3.401356|\n",
      "|   511|   1088|   2.0| 2.9496782|\n",
      "|   327|   1088|   2.0| 2.6816154|\n",
      "|   202|   1088|   4.0|   3.28327|\n",
      "|   380|   1088|   3.0|    4.1956|\n",
      "+------+-------+------+----------+\n",
      "only showing top 20 rows\n",
      "\n",
      "root\n",
      " |-- userId: long (nullable = true)\n",
      " |-- movieId: long (nullable = true)\n",
      " |-- rating: double (nullable = true)\n",
      " |-- prediction: float (nullable = false)\n",
      "\n"
     ]
    }
   ],
   "source": [
    "pred.show()\n",
    "pred.printSchema()"
   ]
  },
  {
   "cell_type": "markdown",
   "id": "9c1c321a",
   "metadata": {},
   "source": [
    "<h3>We evaluate or model score with RegressionEvaluator method and our metric is Root Mean Squared Error<h3>"
   ]
  },
  {
   "cell_type": "code",
   "execution_count": 85,
   "id": "45cc6c8b-214b-4a83-ade9-2c66a427f90b",
   "metadata": {},
   "outputs": [],
   "source": [
    "evale=RegressionEvaluator(metricName=\"rmse\",labelCol=\"rating\",predictionCol=\"prediction\")\n"
   ]
  },
  {
   "cell_type": "code",
   "execution_count": 86,
   "id": "d7f2d6e1-1d34-4c88-ad33-3e38ae69b7b5",
   "metadata": {},
   "outputs": [],
   "source": [
    "rmse=evale.evaluate(pred)\n"
   ]
  },
  {
   "cell_type": "markdown",
   "id": "9617a461",
   "metadata": {},
   "source": [
    "<h3>Our score is 1.16 it's high because we don't have so many features and our data is so small <h3>"
   ]
  },
  {
   "cell_type": "code",
   "execution_count": 87,
   "id": "199eb5ee-ee0b-4ee6-85c4-17fe75c45d55",
   "metadata": {},
   "outputs": [
    {
     "name": "stdout",
     "output_type": "stream",
     "text": [
      "RMSE: 1.1592891922521535\n"
     ]
    }
   ],
   "source": [
    "print(f\"RMSE: {rmse}\")"
   ]
  },
  {
   "cell_type": "markdown",
   "id": "9a0093e9",
   "metadata": {},
   "source": [
    "<h3>Let's filter a user for our prediction in this case we pick user number 1<h3>"
   ]
  },
  {
   "cell_type": "code",
   "execution_count": 88,
   "id": "46e46832-6684-4bce-8227-031c46a2c1c3",
   "metadata": {},
   "outputs": [],
   "source": [
    "user_1=test.filter(test['userId']==1).select(['movieId','userId'])"
   ]
  },
  {
   "cell_type": "code",
   "execution_count": 89,
   "id": "cd6ede13-b5c5-4756-8ffe-ba7d5ca74b9b",
   "metadata": {},
   "outputs": [
    {
     "name": "stdout",
     "output_type": "stream",
     "text": [
      "+-------+------+\n",
      "|movieId|userId|\n",
      "+-------+------+\n",
      "|     32|     1|\n",
      "|    198|     1|\n",
      "|    296|     1|\n",
      "|    367|     1|\n",
      "|    480|     1|\n",
      "|    541|     1|\n",
      "|    608|     1|\n",
      "|    913|     1|\n",
      "|   1097|     1|\n",
      "|   1127|     1|\n",
      "|   1129|     1|\n",
      "|   1136|     1|\n",
      "|   1197|     1|\n",
      "|   1201|     1|\n",
      "|   1220|     1|\n",
      "|   1253|     1|\n",
      "|   1270|     1|\n",
      "|   1580|     1|\n",
      "|   1799|     1|\n",
      "|   1909|     1|\n",
      "+-------+------+\n",
      "only showing top 20 rows\n",
      "\n"
     ]
    }
   ],
   "source": [
    "user_1.show()"
   ]
  },
  {
   "cell_type": "markdown",
   "id": "a0fc80a6",
   "metadata": {},
   "source": [
    "<h3>We train our model for user 1 and look result for better understanding<h3>"
   ]
  },
  {
   "cell_type": "code",
   "execution_count": 90,
   "id": "493d70fe-34d5-4c4c-9800-758214c57b38",
   "metadata": {},
   "outputs": [],
   "source": [
    "rec=model.transform(user_1)"
   ]
  },
  {
   "cell_type": "code",
   "execution_count": 91,
   "id": "6fe5df92",
   "metadata": {},
   "outputs": [
    {
     "name": "stdout",
     "output_type": "stream",
     "text": [
      "+-------+------+----------+\n",
      "|movieId|userId|prediction|\n",
      "+-------+------+----------+\n",
      "|   1580|     1|  2.869466|\n",
      "|   1127|     1| 3.4631732|\n",
      "|   1270|     1| 3.6864874|\n",
      "|    296|     1| 3.8462045|\n",
      "|   1201|     1| 3.2825487|\n",
      "|   2804|     1| 2.8928795|\n",
      "|    367|     1|  2.679151|\n",
      "|   1197|     1| 3.8206134|\n",
      "|   3702|     1| 4.2448378|\n",
      "|   2664|     1|  4.180015|\n",
      "+-------+------+----------+\n",
      "only showing top 10 rows\n",
      "\n"
     ]
    }
   ],
   "source": [
    "rec.show(10)"
   ]
  },
  {
   "cell_type": "markdown",
   "id": "6a5f4318",
   "metadata": {},
   "source": [
    "<h2>Next Moves<h2>\n",
    "    <h3>We can use Content Based Approach for our model<h3>\n",
    "    <h3>We can change inputs for our model and compare the results<h3>\n",
    "    <h3>We can use cross validation<h3>"
   ]
  },
  {
   "cell_type": "code",
   "execution_count": null,
   "id": "86625dd3",
   "metadata": {},
   "outputs": [],
   "source": []
  }
 ],
 "metadata": {
  "kernelspec": {
   "display_name": "Python 3 (ipykernel)",
   "language": "python",
   "name": "python3"
  },
  "language_info": {
   "codemirror_mode": {
    "name": "ipython",
    "version": 3
   },
   "file_extension": ".py",
   "mimetype": "text/x-python",
   "name": "python",
   "nbconvert_exporter": "python",
   "pygments_lexer": "ipython3",
   "version": "3.9.7"
  }
 },
 "nbformat": 4,
 "nbformat_minor": 5
}
